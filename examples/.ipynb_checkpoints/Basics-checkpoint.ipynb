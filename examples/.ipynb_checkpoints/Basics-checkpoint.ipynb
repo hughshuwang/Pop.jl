{
 "cells": [
  {
   "cell_type": "code",
   "execution_count": 3,
   "metadata": {},
   "outputs": [],
   "source": [
    "using DataFrames\n",
    "using CSV"
   ]
  },
  {
   "cell_type": "code",
   "execution_count": 4,
   "metadata": {},
   "outputs": [
    {
     "name": "stderr",
     "output_type": "stream",
     "text": [
      "WARNING: replacing module DataMgmt.\n"
     ]
    },
    {
     "data": {
      "text/plain": [
       "Main.DataMgmt"
      ]
     },
     "execution_count": 4,
     "metadata": {},
     "output_type": "execute_result"
    }
   ],
   "source": [
    "include(\"../src/data_mgmt.jl\") # load in module DataProc"
   ]
  },
  {
   "cell_type": "code",
   "execution_count": null,
   "metadata": {},
   "outputs": [],
   "source": [
    "DataFrames.head(DataMgmt.getquotemedia(symbol = \"SPY\"), 3)"
   ]
  },
  {
   "cell_type": "code",
   "execution_count": null,
   "metadata": {},
   "outputs": [],
   "source": [
    "table = DataMgmt.getlogreturn([\"SPY\", \"EFA\", \"VOO\", \"IVV\", \"TLT\", \"TIP\", \"IVE\", \"XLE\", \"XLI\", \"XLK\", \"XLF\"])\n",
    "DataFrames.head(table, 3)"
   ]
  },
  {
   "cell_type": "code",
   "execution_count": 5,
   "metadata": {
    "collapsed": true
   },
   "outputs": [],
   "source": [
    "file = \"../data/example.csv\"\n",
    "CSV.write(file, table)\n",
    "# file = string(realpath(dirname(@__FILE__)*\"/..\"), \"/data/test.csv\") # if in a .jl file"
   ]
  }
 ],
 "metadata": {
  "kernelspec": {
   "display_name": "Julia 1.0.0",
   "language": "julia",
   "name": "julia-1.0"
  },
  "language_info": {
   "file_extension": ".jl",
   "mimetype": "application/julia",
   "name": "julia",
   "version": "1.0.0"
  }
 },
 "nbformat": 4,
 "nbformat_minor": 2
}
